{
  "nbformat": 4,
  "nbformat_minor": 0,
  "metadata": {
    "colab": {
      "name": "Outlier_Mean",
      "provenance": []
    },
    "kernelspec": {
      "name": "python3",
      "display_name": "Python 3"
    },
    "language_info": {
      "name": "python"
    }
  },
  "cells": [
    {
      "cell_type": "code",
      "execution_count": null,
      "metadata": {
        "id": "d_bCg1lpXG0B"
      },
      "outputs": [],
      "source": [
        "data = [1,2,3,4,5,6,7,25,9,0,2,6,7]"
      ]
    },
    {
      "cell_type": "code",
      "source": [
        "import numpy as np\n",
        "def outlier_IQR(dataset):\n",
        "  Q1 = np.percentile(dataset, 25, interpolation = 'midpoint')\n",
        "  Q2 = np.percentile(dataset, 50, interpolation = 'midpoint')\n",
        "  Q3 = np.percentile(dataset, 75, interpolation = 'midpoint')\n",
        "  print('Q1 of the given data is, ', Q1)\n",
        "  print('Q2(median) of the given data is, ', Q2)\n",
        "  print('Q3 of the given data is, ', Q3)\n",
        "  IQR = Q3 - Q1\n",
        "  print('Interquartile range is', IQR)\n",
        "  low_lim = Q1 - 1.5 * IQR\n",
        "  up_lim = Q3 + 1.5 * IQR\n",
        "  print('low_limit is', low_lim)\n",
        "  print('up_limit is', up_lim)\n",
        "  outlier = []\n",
        "  for x in dataset:\n",
        "\t  if ((x>up_lim) or (x<low_lim)):\n",
        "\t\t  outlier.append(x)\n",
        "  return outlier\n",
        "data_outlier_IQR = outlier_IQR(data)\n",
        "print('outlier from IQR method:', data_outlier_IQR)"
      ],
      "metadata": {
        "colab": {
          "base_uri": "https://localhost:8080/"
        },
        "id": "7NRgzXZBXHaZ",
        "outputId": "d584c38c-401c-4a96-8e45-ed8965b8ded2"
      },
      "execution_count": null,
      "outputs": [
        {
          "output_type": "stream",
          "name": "stdout",
          "text": [
            "Q1 of the given data is,  2.0\n",
            "Q2(median) of the given data is,  5.0\n",
            "Q3 of the given data is,  7.0\n",
            "Interquartile range is 5.0\n",
            "low_limit is -5.5\n",
            "up_limit is 14.5\n",
            "outlier from IQR method: [25]\n"
          ]
        }
      ]
    },
    {
      "cell_type": "code",
      "source": [
        "sample_data3 = data\n",
        "mean_data = round(np.mean(sample_data3),2)\n",
        "print(mean_data)\n",
        "for i in data_outlier_IQR:\n",
        "  for j in range(len(sample_data3)):\n",
        "    if sample_data3[j]== i:\n",
        "      sample_data3[j] = mean_data\n",
        "print(sample_data3)"
      ],
      "metadata": {
        "colab": {
          "base_uri": "https://localhost:8080/"
        },
        "id": "-ht-9TNAXQDx",
        "outputId": "989671bb-fd72-43c8-92e0-08457ea18858"
      },
      "execution_count": null,
      "outputs": [
        {
          "output_type": "stream",
          "name": "stdout",
          "text": [
            "5.92\n",
            "[1, 2, 3, 4, 5, 6, 7, 5.92, 9, 0, 2, 6, 7]\n"
          ]
        }
      ]
    }
  ]
}