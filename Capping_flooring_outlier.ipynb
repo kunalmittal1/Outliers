{
  "nbformat": 4,
  "nbformat_minor": 0,
  "metadata": {
    "colab": {
      "name": "Capping_flooring_outlier",
      "provenance": []
    },
    "kernelspec": {
      "name": "python3",
      "display_name": "Python 3"
    },
    "language_info": {
      "name": "python"
    }
  },
  "cells": [
    {
      "cell_type": "code",
      "execution_count": null,
      "metadata": {
        "id": "8Fso8JAUWfjQ"
      },
      "outputs": [],
      "source": [
        "data = [1,2,3,4,5,6,7,25,9,0,2,6,7]"
      ]
    },
    {
      "cell_type": "code",
      "source": [
        "import numpy as np\n",
        "def outlier_zscore(dataset):\n",
        "  outlier = []\n",
        "  thres = 3\n",
        "  mean = np.mean(dataset)\n",
        "  std = np.std(dataset)\n",
        "  print(mean,std)\n",
        "  for i in data:\n",
        "    z_score = (i-mean)/std\n",
        "    if abs(z_score) > thres:\n",
        "      outlier.append(i)\n",
        "  return outlier\n",
        "data_outlier_zscore = outlier_zscore(data)\n",
        "print(\"outlier from z_score method:\", data_outlier_zscore)"
      ],
      "metadata": {
        "colab": {
          "base_uri": "https://localhost:8080/"
        },
        "id": "3V-ngy8sWl2C",
        "outputId": "8a0cde0e-83f2-4a11-a25c-d068fab2bbe5"
      },
      "execution_count": null,
      "outputs": [
        {
          "output_type": "stream",
          "name": "stdout",
          "text": [
            "5.923076923076923 6.06961585987042\n",
            "outlier from z_score method: [25]\n"
          ]
        }
      ]
    },
    {
      "cell_type": "code",
      "source": [
        "sample_data2 = data \n",
        "tenth_percentile = round(np.percentile(sample_data2, 10),2)\n",
        "ninetieth_percentile = round(np.percentile(sample_data2, 90),2)\n",
        "print(tenth_percentile,ninetieth_percentile)\n",
        "for i in data_outlier_zscore:\n",
        "  if i<tenth_percentile:\n",
        "    for j in range(len(sample_data2)):\n",
        "      if sample_data2[j]== i:\n",
        "        sample_data2[j] = tenth_percentile\n",
        "  elif i>ninetieth_percentile:\n",
        "    for l in range(len(sample_data2)):\n",
        "      if sample_data2[l]== i:\n",
        "        sample_data2[l] = ninetieth_percentile\n",
        "print(sample_data2)"
      ],
      "metadata": {
        "colab": {
          "base_uri": "https://localhost:8080/"
        },
        "id": "FDsRDD_sWmCe",
        "outputId": "8403ee31-2d16-4fa3-dc47-3da578b509cb"
      },
      "execution_count": null,
      "outputs": [
        {
          "output_type": "stream",
          "name": "stdout",
          "text": [
            "1.2 8.6\n",
            "[1, 2, 3, 4, 5, 6, 7, 8.6, 9, 0, 2, 6, 7]\n"
          ]
        }
      ]
    }
  ]
}