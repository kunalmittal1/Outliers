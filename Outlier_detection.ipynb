{
  "nbformat": 4,
  "nbformat_minor": 0,
  "metadata": {
    "colab": {
      "name": "Outlier_detection",
      "provenance": [],
      "collapsed_sections": []
    },
    "kernelspec": {
      "name": "python3",
      "display_name": "Python 3"
    },
    "language_info": {
      "name": "python"
    }
  },
  "cells": [
    {
      "cell_type": "code",
      "execution_count": null,
      "metadata": {
        "id": "k0eeTA6Ml9iy"
      },
      "outputs": [],
      "source": [
        "data = [1,2,3,4,5,6,7,25,9,0,2,6,7]"
      ]
    },
    {
      "cell_type": "markdown",
      "source": [
        "DETECTING OUTLIER USING BOX-PLOT"
      ],
      "metadata": {
        "id": "yY4ZEx0km511"
      }
    },
    {
      "cell_type": "code",
      "source": [
        "import matplotlib.pyplot as plt\n",
        "plt.boxplot(data ,vert=False)"
      ],
      "metadata": {
        "colab": {
          "base_uri": "https://localhost:8080/",
          "height": 404
        },
        "id": "9v85S59gmWg_",
        "outputId": "60a8c303-5754-4209-83d6-b90e5f13e49f"
      },
      "execution_count": null,
      "outputs": [
        {
          "output_type": "execute_result",
          "data": {
            "text/plain": [
              "{'boxes': [<matplotlib.lines.Line2D at 0x7fe72f6d4310>],\n",
              " 'caps': [<matplotlib.lines.Line2D at 0x7fe72f6df3d0>,\n",
              "  <matplotlib.lines.Line2D at 0x7fe72f6df910>],\n",
              " 'fliers': [<matplotlib.lines.Line2D at 0x7fe72f6e5410>],\n",
              " 'means': [],\n",
              " 'medians': [<matplotlib.lines.Line2D at 0x7fe72f6dfe90>],\n",
              " 'whiskers': [<matplotlib.lines.Line2D at 0x7fe72f6d4910>,\n",
              "  <matplotlib.lines.Line2D at 0x7fe72f6d4e50>]}"
            ]
          },
          "metadata": {},
          "execution_count": 2
        },
        {
          "output_type": "display_data",
          "data": {
            "text/plain": [
              "<Figure size 432x288 with 1 Axes>"
            ],
            "image/png": "[encoded data removed]"
          },
          "metadata": {
            "needs_background": "light"
          }
        }
      ]
    },
    {
      "cell_type": "markdown",
      "source": [
        "DETECTING OUTLIER USING Z-SCORE"
      ],
      "metadata": {
        "id": "L7oao1Wwm2-2"
      }
    },
    {
      "cell_type": "code",
      "source": [
        "import numpy as np\n",
        "def outlier_zscore(dataset):\n",
        "  outlier = []\n",
        "  thres = 3\n",
        "  mean = np.mean(dataset)\n",
        "  std = np.std(dataset)\n",
        "  print(mean,std)\n",
        "  for i in data:\n",
        "    z_score = (i-mean)/std\n",
        "    if abs(z_score) > thres:\n",
        "      outlier.append(i)\n",
        "  return outlier\n",
        "data_outlier_zscore = outlier_zscore(data)\n",
        "print(\"outlier from z_score method:\", data_outlier_zscore)"
      ],
      "metadata": {
        "colab": {
          "base_uri": "https://localhost:8080/"
        },
        "id": "Ui4ykmdHnIcG",
        "outputId": "dab21a41-f6e9-412c-a0ad-5e75cb18e3d7"
      },
      "execution_count": null,
      "outputs": [
        {
          "output_type": "stream",
          "name": "stdout",
          "text": [
            "5.923076923076923 6.06961585987042\n",
            "outlier from z_score method: [25]\n"
          ]
        }
      ]
    },
    {
      "cell_type": "markdown",
      "source": [
        "DETECTING OUTLIER USING IQR"
      ],
      "metadata": {
        "id": "4rPxRxmB07zv"
      }
    },
    {
      "cell_type": "code",
      "source": [
        "import numpy as np\n",
        "def outlier_IQR(dataset):\n",
        "  Q1 = np.percentile(dataset, 25, interpolation = 'midpoint')\n",
        "  Q2 = np.percentile(dataset, 50, interpolation = 'midpoint')\n",
        "  Q3 = np.percentile(dataset, 75, interpolation = 'midpoint')\n",
        "  print('Q1 of the given data is, ', Q1)\n",
        "  print('Q2(median) of the given data is, ', Q2)\n",
        "  print('Q3 of the given data is, ', Q3)\n",
        "  IQR = Q3 - Q1\n",
        "  print('Interquartile range is', IQR)\n",
        "  low_lim = Q1 - 1.5 * IQR\n",
        "  up_lim = Q3 + 1.5 * IQR\n",
        "  print('low_limit is', low_lim)\n",
        "  print('up_limit is', up_lim)\n",
        "  outlier = []\n",
        "  for x in dataset:\n",
        "\t  if ((x>up_lim) or (x<low_lim)):\n",
        "\t\t  outlier.append(x)\n",
        "  return outlier\n",
        "data_outlier_IQR = outlier_IQR(data)\n",
        "print('outlier from IQR method:', data_outlier_IQR)"
      ],
      "metadata": {
        "colab": {
          "base_uri": "https://localhost:8080/"
        },
        "id": "RfcGw4qN1DMp",
        "outputId": "30532812-7d49-4a27-b551-360f129d8b32"
      },
      "execution_count": null,
      "outputs": [
        {
          "output_type": "stream",
          "name": "stdout",
          "text": [
            "Q1 of the given data is,  2.0\n",
            "Q2(median) of the given data is,  5.0\n",
            "Q3 of the given data is,  7.0\n",
            "Interquartile range is 5.0\n",
            "low_limit is -5.5\n",
            "up_limit is 14.5\n",
            "outlier from IQR method: [25]\n"
          ]
        }
      ]
    }
  ]
}