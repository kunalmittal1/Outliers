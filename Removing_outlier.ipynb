{
  "nbformat": 4,
  "nbformat_minor": 0,
  "metadata": {
    "colab": {
      "name": "Removing_outlier",
      "provenance": []
    },
    "kernelspec": {
      "name": "python3",
      "display_name": "Python 3"
    },
    "language_info": {
      "name": "python"
    }
  },
  "cells": [
    {
      "cell_type": "code",
      "execution_count": null,
      "metadata": {
        "id": "UnC-x1s6VxNa"
      },
      "outputs": [],
      "source": [
        "data = [1,2,3,4,5,6,7,25,9,0,2,6,7]"
      ]
    },
    {
      "cell_type": "code",
      "source": [
        "import numpy as np\n",
        "def outlier_zscore(dataset):\n",
        "  outlier = []\n",
        "  thres = 3\n",
        "  mean = np.mean(dataset)\n",
        "  std = np.std(dataset)\n",
        "  print(mean,std)\n",
        "  for i in data:\n",
        "    z_score = (i-mean)/std\n",
        "    if abs(z_score) > thres:\n",
        "      outlier.append(i)\n",
        "  return outlier\n",
        "data_outlier_zscore = outlier_zscore(data)\n",
        "print(\"outlier from z_score method:\", data_outlier_zscore)"
      ],
      "metadata": {
        "colab": {
          "base_uri": "https://localhost:8080/"
        },
        "id": "JtA7gJnJWGyR",
        "outputId": "e6036344-46eb-4e23-fc42-2224e31f6786"
      },
      "execution_count": null,
      "outputs": [
        {
          "output_type": "stream",
          "name": "stdout",
          "text": [
            "5.923076923076923 6.06961585987042\n",
            "outlier from z_score method: [25]\n"
          ]
        }
      ]
    },
    {
      "cell_type": "code",
      "source": [
        "for i in data_outlier_zscore:\n",
        "  for j in data:\n",
        "    if i==j:\n",
        "      data.remove(j)\n",
        "data"
      ],
      "metadata": {
        "colab": {
          "base_uri": "https://localhost:8080/"
        },
        "id": "zAQW4qBFWOxS",
        "outputId": "5a5afc20-8f3e-4ba0-9d73-e9ae9e6dbaf2"
      },
      "execution_count": null,
      "outputs": [
        {
          "output_type": "execute_result",
          "data": {
            "text/plain": [
              "[1, 2, 3, 4, 5, 6, 7, 9, 0, 2, 6, 7]"
            ]
          },
          "metadata": {},
          "execution_count": 3
        }
      ]
    }
  ]
}